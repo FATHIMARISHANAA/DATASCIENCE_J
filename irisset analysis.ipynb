{
 "cells": [
  {
   "cell_type": "code",
   "execution_count": 1,
   "id": "0a7d61eb-5527-4dbd-bd72-5e73048bcf34",
   "metadata": {},
   "outputs": [
    {
     "name": "stdout",
     "output_type": "stream",
     "text": [
      "K-Nearest Neighbor Predictions: [1 0 2 1 1 0 1 2 1 1 2 0 0 0 0 1 2 1 1 2 0 2 0 2 2 2 2 2 0 0]\n",
      "Gaussian Naive Bayes Predictions: [1 0 2 1 1 0 1 2 1 1 2 0 0 0 0 1 2 1 1 2 0 2 0 2 2 2 2 2 0 0]\n",
      "K-Nearest Neighbor Accuracy: 1.00\n",
      "Gaussian Naive Bayes Accuracy: 1.00\n"
     ]
    }
   ],
   "source": [
    "# Import necessary libraries\n",
    "from sklearn.datasets import load_iris\n",
    "from sklearn.model_selection import train_test_split\n",
    "from sklearn.neighbors import KNeighborsClassifier\n",
    "from sklearn.naive_bayes import GaussianNB\n",
    "from sklearn.metrics import accuracy_score\n",
    "\n",
    "# Step 1: Load the Iris dataset\n",
    "iris = load_iris()\n",
    "X = iris.data  # Features\n",
    "y = iris.target  # Target (Species)\n",
    "\n",
    "# Step 3: Split the dataset into training and testing sets\n",
    "X_train, X_test, y_train, y_test = train_test_split(X, y, test_size=0.2, random_state=42)\n",
    "\n",
    "# Step 4: Train the models\n",
    "# K-Nearest Neighbor with k=5\n",
    "knn = KNeighborsClassifier(n_neighbors=5)\n",
    "knn.fit(X_train, y_train)\n",
    "\n",
    "# Gaussian Naive Bayes\n",
    "gnb = GaussianNB()\n",
    "gnb.fit(X_train, y_train)\n",
    "\n",
    "# Step 5: Test the models\n",
    "knn_predictions = knn.predict(X_test)\n",
    "gnb_predictions = gnb.predict(X_test)\n",
    "\n",
    "# Step 6: Print the predicted class labels\n",
    "print(\"K-Nearest Neighbor Predictions:\", knn_predictions)\n",
    "print(\"Gaussian Naive Bayes Predictions:\", gnb_predictions)\n",
    "\n",
    "# (Optional) Calculate and print the accuracy of the models\n",
    "knn_accuracy = accuracy_score(y_test, knn_predictions)\n",
    "gnb_accuracy = accuracy_score(y_test, gnb_predictions)\n",
    "\n",
    "print(f\"K-Nearest Neighbor Accuracy: {knn_accuracy:.2f}\")\n",
    "print(f\"Gaussian Naive Bayes Accuracy: {gnb_accuracy:.2f}\")\n"
   ]
  },
  {
   "cell_type": "code",
   "execution_count": 2,
   "id": "9f146ead-d1ba-4d80-84f9-47364e492792",
   "metadata": {},
   "outputs": [
    {
     "name": "stdin",
     "output_type": "stream",
     "text": [
      "Enter the number of neighbors (k) for K-Nearest Neighbor:  5\n",
      "Enter the test size as a decimal (e.g., 0.2 for 20% test size):  0.4\n"
     ]
    },
    {
     "name": "stdout",
     "output_type": "stream",
     "text": [
      "K-Nearest Neighbor Predictions: [1 0 2 1 1 0 1 2 1 1 2 0 0 0 0 1 2 1 1 2 0 2 0 2 2 2 2 2 0 0 0 0 1 0 0 2 1\n",
      " 0 0 0 2 1 1 0 0 1 1 2 1 2 1 2 1 0 2 1 0 0 0 1]\n",
      "Gaussian Naive Bayes Predictions: [1 0 2 1 1 0 1 2 1 1 2 0 0 0 0 2 2 1 1 2 0 2 0 2 2 2 2 2 0 0 0 0 1 0 0 2 1\n",
      " 0 0 0 2 1 1 0 0 1 1 2 1 2 1 2 1 0 2 1 0 0 0 1]\n",
      "K-Nearest Neighbor Accuracy: 0.98\n",
      "Gaussian Naive Bayes Accuracy: 0.97\n"
     ]
    }
   ],
   "source": [
    "#as user defined\n",
    "# Import necessary libraries\n",
    "from sklearn.datasets import load_iris\n",
    "from sklearn.model_selection import train_test_split\n",
    "from sklearn.neighbors import KNeighborsClassifier\n",
    "from sklearn.naive_bayes import GaussianNB\n",
    "from sklearn.metrics import accuracy_score\n",
    "\n",
    "# Step 1: Load the Iris dataset\n",
    "iris = load_iris()\n",
    "X = iris.data  # Features\n",
    "y = iris.target  # Target (Species)\n",
    "\n",
    "# User-defined inputs\n",
    "k = int(input(\"Enter the number of neighbors (k) for K-Nearest Neighbor: \"))\n",
    "test_size = float(input(\"Enter the test size as a decimal (e.g., 0.2 for 20% test size): \"))\n",
    "\n",
    "# Step 3: Split the dataset into training and testing sets based on user input\n",
    "X_train, X_test, y_train, y_test = train_test_split(X, y, test_size=test_size, random_state=42)\n",
    "\n",
    "# Step 4: Train the models\n",
    "# K-Nearest Neighbor with user-defined k\n",
    "knn = KNeighborsClassifier(n_neighbors=k)\n",
    "knn.fit(X_train, y_train)\n",
    "\n",
    "# Gaussian Naive Bayes\n",
    "gnb = GaussianNB()\n",
    "gnb.fit(X_train, y_train)\n",
    "\n",
    "# Step 5: Test the models\n",
    "knn_predictions = knn.predict(X_test)\n",
    "gnb_predictions = gnb.predict(X_test)\n",
    "\n",
    "# Step 6: Print the predicted class labels\n",
    "print(\"K-Nearest Neighbor Predictions:\", knn_predictions)\n",
    "print(\"Gaussian Naive Bayes Predictions:\", gnb_predictions)\n",
    "\n",
    "# (Optional) Calculate and print the accuracy of the models\n",
    "knn_accuracy = accuracy_score(y_test, knn_predictions)\n",
    "gnb_accuracy = accuracy_score(y_test, gnb_predictions)\n",
    "\n",
    "print(f\"K-Nearest Neighbor Accuracy: {knn_accuracy:.2f}\")\n",
    "print(f\"Gaussian Naive Bayes Accuracy: {gnb_accuracy:.2f}\")\n"
   ]
  },
  {
   "cell_type": "code",
   "execution_count": null,
   "id": "ab569f7b-1fc5-44f9-96aa-bd7302e8b7b8",
   "metadata": {},
   "outputs": [],
   "source": []
  }
 ],
 "metadata": {
  "kernelspec": {
   "display_name": "Python 3 (ipykernel)",
   "language": "python",
   "name": "python3"
  },
  "language_info": {
   "codemirror_mode": {
    "name": "ipython",
    "version": 3
   },
   "file_extension": ".py",
   "mimetype": "text/x-python",
   "name": "python",
   "nbconvert_exporter": "python",
   "pygments_lexer": "ipython3",
   "version": "3.11.9"
  }
 },
 "nbformat": 4,
 "nbformat_minor": 5
}
