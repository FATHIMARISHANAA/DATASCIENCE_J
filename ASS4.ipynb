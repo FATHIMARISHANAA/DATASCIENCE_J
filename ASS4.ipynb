{
 "cells": [
  {
   "cell_type": "code",
   "execution_count": 1,
   "id": "7c6da7cb",
   "metadata": {},
   "outputs": [
    {
     "name": "stdout",
     "output_type": "stream",
     "text": [
      "Enter list1,2,3,4,5,6,4,3,2\n",
      "Without duplicate:  ['3', '2', '5', '1', ',', '4', '6']\n"
     ]
    }
   ],
   "source": [
    "def dup(B):\n",
    "    return list(set(B))\n",
    "B=input(\"Enter list=\")\n",
    "print(\"Without duplicate: \",dup(B))"
   ]
  },
  {
   "cell_type": "code",
   "execution_count": 3,
   "id": "ee182fe8",
   "metadata": {},
   "outputs": [
    {
     "name": "stdout",
     "output_type": "stream",
     "text": [
      "Enter list=1,3,5,8,7,9,0\n",
      "Largest among 1,3,5,8,7,9,0 = 9\n"
     ]
    }
   ],
   "source": [
    "list=input(\"Enter list=\")\n",
    "A=max(list)\n",
    "print(\"Largest among\",list,\"=\",A)"
   ]
  },
  {
   "cell_type": "code",
   "execution_count": null,
   "id": "2b8d648b",
   "metadata": {},
   "outputs": [],
   "source": []
  }
 ],
 "metadata": {
  "kernelspec": {
   "display_name": "Python 3 (ipykernel)",
   "language": "python",
   "name": "python3"
  },
  "language_info": {
   "codemirror_mode": {
    "name": "ipython",
    "version": 3
   },
   "file_extension": ".py",
   "mimetype": "text/x-python",
   "name": "python",
   "nbconvert_exporter": "python",
   "pygments_lexer": "ipython3",
   "version": "3.11.5"
  }
 },
 "nbformat": 4,
 "nbformat_minor": 5
}
