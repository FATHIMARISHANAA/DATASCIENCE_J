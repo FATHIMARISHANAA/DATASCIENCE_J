{
 "cells": [
  {
   "cell_type": "code",
   "execution_count": 8,
   "id": "f5476054-72b8-46c4-8126-26a29ab761a2",
   "metadata": {},
   "outputs": [
    {
     "name": "stdout",
     "output_type": "stream",
     "text": [
      "Original DataFrame:\n",
      "      Name      Age                Email    DateOfBirth\n",
      "0    Alice       25    alice@example.com     1999-01-01\n",
      "1      Bob       30      bob@example.com  not available\n",
      "2  Charlie  Unknown  charlie@example.com     2000-02-29\n",
      "3      NaN       22      bob@example.com     1998-12-31\n",
      "4    Alice       25    alice@example.com            NaN\n",
      "\n",
      "Step 1: General Data Cleaning\n",
      "\n",
      "Step 2: Dropping 'Email' Column\n",
      "\n",
      "Step 3: Cleaning Empty Cells\n",
      "\n",
      "Step 4: Cleaning Wrong Format\n",
      "\n",
      "Step 5: Cleaning Wrong Data\n",
      "\n",
      "Step 6: Removing Duplicates\n",
      "\n",
      "Cleaned DataFrame:\n",
      "      Name   Age DateOfBirth\n",
      "0    Alice  25.0  1999-01-01\n",
      "3  Unknown  22.0  1998-12-31\n",
      "4    Alice  25.0  1900-01-01\n"
     ]
    },
    {
     "name": "stderr",
     "output_type": "stream",
     "text": [
      "/tmp/ipykernel_25698/1464665691.py:28: FutureWarning: A value is trying to be set on a copy of a DataFrame or Series through chained assignment using an inplace method.\n",
      "The behavior will change in pandas 3.0. This inplace method will never work because the intermediate object on which we are setting values always behaves as a copy.\n",
      "\n",
      "For example, when doing 'df[col].method(value, inplace=True)', try using 'df.method({col: value}, inplace=True)' or df[col] = df[col].method(value) instead, to perform the operation inplace on the original object.\n",
      "\n",
      "\n",
      "  df['Name'].fillna('Unknown', inplace=True)\n",
      "/tmp/ipykernel_25698/1464665691.py:29: FutureWarning: A value is trying to be set on a copy of a DataFrame or Series through chained assignment using an inplace method.\n",
      "The behavior will change in pandas 3.0. This inplace method will never work because the intermediate object on which we are setting values always behaves as a copy.\n",
      "\n",
      "For example, when doing 'df[col].method(value, inplace=True)', try using 'df.method({col: value}, inplace=True)' or df[col] = df[col].method(value) instead, to perform the operation inplace on the original object.\n",
      "\n",
      "\n",
      "  df['DateOfBirth'].fillna('1900-01-01', inplace=True)  # Default date\n"
     ]
    }
   ],
   "source": [
    "import pandas as pd\n",
    "import numpy as np\n",
    "\n",
    "# Sample DataFrame for demonstration\n",
    "data = {\n",
    "    'Name': ['Alice', 'Bob', 'Charlie', np.nan, 'Alice'],\n",
    "    'Age': [25, 30, 'Unknown', 22, 25],\n",
    "    'Email': ['alice@example.com', 'bob@example.com', 'charlie@example.com', 'bob@example.com', 'alice@example.com'],\n",
    "    'DateOfBirth': ['1999-01-01', 'not available', '2000-02-29', '1998-12-31', np.nan]\n",
    "}\n",
    "\n",
    "# Create DataFrame\n",
    "df = pd.DataFrame(data)\n",
    "\n",
    "print(\"Original DataFrame:\")\n",
    "print(df)\n",
    "\n",
    "# 1. Cleaning Data (General cleaning process)\n",
    "print(\"\\nStep 1: General Data Cleaning\")\n",
    "\n",
    "# Drop the 'Email' column\n",
    "print(\"\\nStep 2: Dropping 'Email' Column\")\n",
    "df.drop(columns=['Email'], inplace=True)\n",
    "\n",
    "# 2. Cleaning Empty Cells\n",
    "print(\"\\nStep 3: Cleaning Empty Cells\")\n",
    "# Fill empty cells with placeholders\n",
    "df['Name'].fillna('Unknown', inplace=True)\n",
    "df['DateOfBirth'].fillna('1900-01-01', inplace=True)  # Default date\n",
    "\n",
    "# 3. Cleaning Wrong Format\n",
    "print(\"\\nStep 4: Cleaning Wrong Format\")\n",
    "# Convert 'Age' column to numeric, coercing errors to NaN\n",
    "df['Age'] = pd.to_numeric(df['Age'], errors='coerce')\n",
    "\n",
    "# Convert 'DateOfBirth' column to datetime, invalid parsing will be set as NaT\n",
    "df['DateOfBirth'] = pd.to_datetime(df['DateOfBirth'], errors='coerce')\n",
    "\n",
    "# 4. Cleaning Wrong Data\n",
    "print(\"\\nStep 5: Cleaning Wrong Data\")\n",
    "# Drop rows where 'Age' or 'DateOfBirth' are NaN after conversion\n",
    "df.dropna(subset=['Age', 'DateOfBirth'], inplace=True)\n",
    "\n",
    "# 5. Removing Duplicates\n",
    "print(\"\\nStep 6: Removing Duplicates\")\n",
    "df.drop_duplicates(inplace=True)\n",
    "\n",
    "print(\"\\nCleaned DataFrame:\")\n",
    "print(df)\n"
   ]
  },
  {
   "cell_type": "code",
   "execution_count": null,
   "id": "e5a3ce12-4354-4328-b89d-b57228c64e5c",
   "metadata": {},
   "outputs": [],
   "source": [
    " df.corr() "
   ]
  },
  {
   "cell_type": "code",
   "execution_count": null,
   "id": "01b5dc0d-6850-4f73-84f5-c954baf5c3fe",
   "metadata": {},
   "outputs": [],
   "source": []
  },
  {
   "cell_type": "code",
   "execution_count": null,
   "id": "7a69b3f7-f1eb-4793-b196-c58a4b5a3721",
   "metadata": {},
   "outputs": [],
   "source": []
  }
 ],
 "metadata": {
  "kernelspec": {
   "display_name": "Python 3 (ipykernel)",
   "language": "python",
   "name": "python3"
  },
  "language_info": {
   "codemirror_mode": {
    "name": "ipython",
    "version": 3
   },
   "file_extension": ".py",
   "mimetype": "text/x-python",
   "name": "python",
   "nbconvert_exporter": "python",
   "pygments_lexer": "ipython3",
   "version": "3.11.9"
  }
 },
 "nbformat": 4,
 "nbformat_minor": 5
}
