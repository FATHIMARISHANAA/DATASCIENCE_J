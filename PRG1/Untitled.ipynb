{
 "cells": [
  {
   "cell_type": "code",
   "execution_count": 1,
   "id": "efed2586-ed3e-4880-9269-8459f539e710",
   "metadata": {},
   "outputs": [
    {
     "name": "stdout",
     "output_type": "stream",
     "text": [
      "Arithmetic Operation\n",
      "\n",
      "a: 10\n",
      "b: 5\n",
      "Addition 15\n",
      "Substraction 5\n",
      "Multiplicatin 50\n",
      "Division 2.0\n",
      "\n",
      "Boolean Operation\n",
      "\n",
      "a greaterthan b: True\n",
      "b lessthan a: False\n",
      "a notequal b: True\n",
      "a equal b: False\n"
     ]
    }
   ],
   "source": [
    "#Arithmetic\n",
    "print(\"Arithmetic Operation\\n\")\n",
    "a=10\n",
    "b=5\n",
    "print(\"a:\",a)\n",
    "print(\"b:\",b)\n",
    "print(\"Addition\",a+b)\n",
    "print(\"Substraction\",a-b)\n",
    "print(\"Multiplicatin\",a*b)\n",
    "print(\"Division\",a/b)\n",
    "\n",
    "print(\"\\nBoolean Operation\\n\")\n",
    "print(\"a greaterthan b:\",a>b)\n",
    "print(\"b lessthan a:\",b>a)\n",
    "print(\"a notequal b:\",a!=b)\n",
    "print(\"a equal b:\",a==b)"
   ]
  },
  {
   "cell_type": "code",
   "execution_count": 2,
   "id": "65f2cd2b-ffeb-4b42-a5c4-e5b7cca83712",
   "metadata": {},
   "outputs": [
    {
     "name": "stdout",
     "output_type": "stream",
     "text": [
      "String Operation\n",
      "\n",
      "String 1: hello\n",
      "String 2:  world\n",
      "Character at 2nd position: e\n",
      "Compare: False\n",
      "Concatenate using + operation: hello world\n",
      "Capitalize of string 1: Hello\n",
      "Length of string 1: 5\n",
      "Uppercase: HELLO\n",
      "Slicing: llo\n",
      "Numeric or not: False\n"
     ]
    }
   ],
   "source": [
    "#String\n",
    "print(\"String Operation\\n\")\n",
    "str1=\"hello\"\n",
    "str2=\" world\"\n",
    "print(\"String 1:\",str1)\n",
    "print(\"String 2:\",str2)\n",
    "print(\"Character at 2nd position:\",str1[1])\n",
    "print(\"Compare:\",str1 == str2)\n",
    "result = str1 + str2\n",
    "print(\"Concatenate using + operation:\",result)\n",
    "print(\"Capitalize of string 1:\",str1.capitalize())\n",
    "print(\"Length of string 1:\",len(str1))\n",
    "print(\"Uppercase:\",str1.upper())\n",
    "print(\"Slicing:\",str1[2:5])\n",
    "print(\"Numeric or not:\",str1.isnumeric())\n"
   ]
  },
  {
   "cell_type": "code",
   "execution_count": 3,
   "id": "c4f87a20-4724-41b3-afd1-d5f9058a4e09",
   "metadata": {},
   "outputs": [
    {
     "name": "stdout",
     "output_type": "stream",
     "text": [
      "List Operation\n",
      "\n",
      "Original List: ['Python', 'Swift', 'C++']\n",
      "Word at 3rd position: C++\n",
      "Updated List: ['Python', 'Swift', 'C++', 'java']\n",
      "Removed List: ['Python', 'C++', 'java']\n",
      "Total Elements:  3\n",
      "Sorted List: ['C++', 'Python', 'java']\n"
     ]
    }
   ],
   "source": [
    "#List\n",
    "print(\"List Operation\\n\")\n",
    "lang = ['Python', 'Swift', 'C++']\n",
    "print('Original List:', lang)\n",
    "print(\"Word at 3rd position:\",lang[2])\n",
    "lang.append('java')\n",
    "print('Updated List:', lang)\n",
    "lang.remove('Swift')\n",
    "print('Removed List:', lang)\n",
    "print('Total Elements: ', len(lang))\n",
    "lang.sort()\n",
    "print('Sorted List:', lang)\n"
   ]
  },
  {
   "cell_type": "code",
   "execution_count": 4,
   "id": "24a854b5-2283-41e7-8132-e6cbce4b13da",
   "metadata": {},
   "outputs": [
    {
     "name": "stdout",
     "output_type": "stream",
     "text": [
      "Dictionary Operation\n",
      "\n",
      "Original Dict: {1: 'Sinan', 2: 'Abhi', 3: 'Yadu'}\n",
      "Value at 3: Yadu\n",
      "Length: 3\n",
      "Added Dictionary: {1: 'Sinan', 2: 'Abhi', 3: 'Yadu', 4: 'Rohit'}\n",
      "Updated Dictionary: {1: 'Banu', 2: 'Abhi', 3: 'Yadu', 4: 'Rohit'}\n",
      "Removed Dictionary: {2: 'Abhi', 3: 'Yadu', 4: 'Rohit'}\n"
     ]
    }
   ],
   "source": [
    "#Dictionary\n",
    "print(\"Dictionary Operation\\n\")\n",
    "dict= {\n",
    "  1: \"Sinan\", \n",
    "  2: \"Abhi\", \n",
    "  3: \"Yadu\"\n",
    "}\n",
    "print(\"Original Dict:\",dict)\n",
    "print(\"Value at 3:\",dict[3])\n",
    "print(\"Length:\",len(dict))\n",
    "dict[4]=\"Rohit\"\n",
    "print(\"Added Dictionary:\",dict)\n",
    "dict.update({1:\"Banu\"})\n",
    "print(\"Updated Dictionary:\",dict)\n",
    "dict.pop(1)\n",
    "print(\"Removed Dictionary:\",dict)\n"
   ]
  },
  {
   "cell_type": "code",
   "execution_count": null,
   "id": "2a51b0e2-91d5-4020-9e7f-d0afda828c23",
   "metadata": {},
   "outputs": [],
   "source": []
  },
  {
   "cell_type": "code",
   "execution_count": null,
   "id": "cdc86e50-462e-42bc-a2fe-f9617ed52b9b",
   "metadata": {},
   "outputs": [],
   "source": []
  }
 ],
 "metadata": {
  "kernelspec": {
   "display_name": "Python 3 (ipykernel)",
   "language": "python",
   "name": "python3"
  },
  "language_info": {
   "codemirror_mode": {
    "name": "ipython",
    "version": 3
   },
   "file_extension": ".py",
   "mimetype": "text/x-python",
   "name": "python",
   "nbconvert_exporter": "python",
   "pygments_lexer": "ipython3",
   "version": "3.11.9"
  }
 },
 "nbformat": 4,
 "nbformat_minor": 5
}
