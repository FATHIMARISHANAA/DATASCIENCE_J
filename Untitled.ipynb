{
 "cells": [
  {
   "cell_type": "code",
   "execution_count": 22,
   "id": "99be8a91",
   "metadata": {},
   "outputs": [
    {
     "name": "stdout",
     "output_type": "stream",
     "text": [
      "x= 57\n",
      "Type of x= <class 'int'>\n",
      "X= 1.23 Type: <class 'float'>\n",
      "x+y= 58.23\n",
      "y-x= -55.77\n",
      "y X 2= 2.46\n",
      "IUML KERALA\n",
      "a[2:5] ML K\n",
      "INDIA\n",
      "IUML KERALA + INDIA = IUML KERALAINDIA\n",
      "a: IUML KERALA\n",
      "Length of a 11\n",
      "sev annan mk To uppercase: SEV ANNAN MK\n",
      "Sevag, is 36\n"
     ]
    }
   ],
   "source": [
    "x=57\n",
    "y=1.23\n",
    "#print data types and values\n",
    "print(\"x=\",x)\n",
    "print(\"Type of x=\",type(x))\n",
    "print(\"X=\",y,\"Type:\",type(y))\n",
    "\n",
    "\n",
    "#arithmatic oprtn\n",
    "print(\"x+y=\",x+y)\n",
    "print(\"y-x=\",y-x)\n",
    "print(\"y X 2=\",y*2)\n",
    "\n",
    "\n"
   ]
  },
  {
   "cell_type": "code",
   "execution_count": 31,
   "id": "8dff0897",
   "metadata": {},
   "outputs": [
    {
     "name": "stdout",
     "output_type": "stream",
     "text": [
      "IUML KERALA\n",
      "a[2:5] ML K\n",
      "INDIA\n",
      "IUML KERALA + INDIA = IUML KERALAINDIA\n",
      "a: IUML KERALA\n",
      "Length of a 11\n",
      "sev annan mk To uppercase: SEV ANNAN MK\n",
      "Sevag, is 36\n",
      "cap sev annan mk P: Sev annan mk\n",
      "replace annan from sev annan mk to thambi== sev thambi mk\n",
      "['Hello', ' word']\n",
      "Hello\n",
      " word\n",
      "Extract using find\n",
      "w\n"
     ]
    }
   ],
   "source": [
    "\n",
    "#string operations\n",
    "#slicing\n",
    "a=\"IUML KERALA\"\n",
    "b=\"INDIA\"\n",
    "print(a)\n",
    "print(\"a[2:5]\",a[2:6])\n",
    "print(b)\n",
    "c=a+b\n",
    "print(a,\"+\",b,\"=\",c)\n",
    "print(\"a:\",a)\n",
    "print(\"Length of a\",len(a))\n",
    "#uppercase\n",
    "i=\"sev annan mk\"\n",
    "print(i,\"To uppercase:\",i.upper())\n",
    "#formating\n",
    "age = 36\n",
    "txt = f\"Sevag, is {age}\"\n",
    "print(txt)\n",
    "print(\"cap\",i,\"P:\",i.capitalize())\n",
    "print(\"replace annan from\",i,\"to thambi==\",i.replace(\"annan\",\"thambi\"))\n",
    "#string extraction\n",
    "text=\"Hello, word\"\n",
    "\n",
    "sub=text.split(\",\")\n",
    "print(sub)\n",
    "print(sub[0])\n",
    "print(sub[1])\n"
   ]
  },
  {
   "cell_type": "code",
   "execution_count": 33,
   "id": "555acc1d",
   "metadata": {},
   "outputs": [
    {
     "name": "stdout",
     "output_type": "stream",
     "text": [
      "b is not greater than a\n",
      "True\n",
      "True\n"
     ]
    }
   ],
   "source": [
    "#boolean\n",
    "a = 200\n",
    "b = 33\n",
    "\n",
    "if b > a:\n",
    "    print(\"b is greater than a\")\n",
    "else:\n",
    "    print(\"b is not greater than a\")\n",
    "#bool or not\n",
    "print(bool(\"Hello\"))\n",
    "print(bool(15))\n"
   ]
  },
  {
   "cell_type": "code",
   "execution_count": 38,
   "id": "a9e9a5c6",
   "metadata": {},
   "outputs": [
    {
     "name": "stdout",
     "output_type": "stream",
     "text": [
      "['apple', 'banan', 'orang', 'orang']\n",
      "length of list ['apple', 'banan', 'orang', 'orang'] is: 4\n",
      "<class 'list'>\n"
     ]
    }
   ],
   "source": [
    "#List\n",
    "list=[\"apple\",\"banan\",\"orang\",\"orang\"]\n",
    "print(list)\n",
    "print(\"length of list\",list,\"is:\",len(list))\n",
    "#type\n",
    "mylist = [\"apple\", \"banana\", \"cherry\"]\n",
    "print(type(mylist))"
   ]
  },
  {
   "cell_type": "code",
   "execution_count": 45,
   "id": "4a135248",
   "metadata": {},
   "outputs": [
    {
     "name": "stdout",
     "output_type": "stream",
     "text": [
      "('apple', 'banana', 'cherry', 'apple', 'cherry')\n",
      "length of 5\n",
      "('apple', 'banana', 'cherry')\n",
      "(1, 5, 7, 9, 3)\n",
      "(True, False, False)\n",
      "('abc', 34, True, 40, 'male')\n"
     ]
    }
   ],
   "source": [
    "#tuple\n",
    "tuple = (\"apple\", \"banana\", \"cherry\", \"apple\", \"cherry\")\n",
    "print(tuple)\n",
    "#use the len() function:\n",
    "print(\"length of\",len(tuple))\n",
    "##type\n",
    "tuple1 = (\"apple\", \"banana\", \"cherry\")\n",
    "tuple2 = (1, 5, 7, 9, 3)\n",
    "tuple3 = (True, False, False)\n",
    "print(tuple1)\n",
    "print(tuple2)\n",
    "print(tuple3)\n",
    "tuple1 = (\"abc\", 34, True, 40, \"male\")\n",
    "print(tuple1)\n"
   ]
  },
  {
   "cell_type": "code",
   "execution_count": 46,
   "id": "aaaba31d",
   "metadata": {},
   "outputs": [
    {
     "name": "stdout",
     "output_type": "stream",
     "text": [
      "{'apple', 'banana', 'cherry'}\n"
     ]
    }
   ],
   "source": [
    "#set\n",
    "\n",
    "thisset = {\"apple\", \"banana\", \"cherry\"}\n",
    "print(thisset)\n"
   ]
  },
  {
   "cell_type": "code",
   "execution_count": 55,
   "id": "7a0ab5a8",
   "metadata": {},
   "outputs": [
    {
     "name": "stdout",
     "output_type": "stream",
     "text": [
      "{'brand': 'Ford', 'model': 'Mustang', 'year': 1964}\n",
      "3\n",
      "<class 'dict'>\n",
      "{'name': 'John', 'age': 36, 'country': 'Norway'}\n",
      "{'brand': 'Ford', 'model': 'Mustang', 'year': 1964, 'color': 'red'}\n",
      "{'brand': 'Ford', 'year': 1964}\n",
      "brand\n",
      "year\n",
      "Ford\n",
      "1964\n",
      "brand\n",
      "year\n",
      "brand Ford\n",
      "year 1964\n",
      "{'brand': 'Ford', 'model': 'Mustang', 'year': 1964}\n",
      "child1\n",
      "name: Emil\n",
      "year: 2004\n",
      "child2\n",
      "name: Tobias\n",
      "year: 2007\n",
      "child3\n",
      "name: Linus\n",
      "year: 2011\n"
     ]
    }
   ],
   "source": [
    "#dictionaries\n",
    "thisdict = {\n",
    "  \"brand\": \"Ford\",\n",
    "  \"model\": \"Mustang\",\n",
    "  \"year\": 1964\n",
    "}\n",
    "print(thisdict)\n",
    "print(len(thisdict))\n",
    "#type\n",
    "\n",
    "thisdict = {\n",
    "  \"brand\": \"Ford\",\n",
    "  \"model\": \"Mustang\",\n",
    "  \"year\": 1964\n",
    "}\n",
    "print(type(thisdict))\n",
    "#Using the dict() method to make a dictionary:\n",
    "\n",
    "thisdict = dict(name = \"John\", age = 36, country = \"Norway\")\n",
    "print(thisdict)\n",
    "#add item\n",
    "thisdict = {\n",
    "  \"brand\": \"Ford\",\n",
    "  \"model\": \"Mustang\",\n",
    "  \"year\": 1964\n",
    "}\n",
    "thisdict[\"color\"] = \"red\"\n",
    "print(thisdict)\n",
    "\n",
    "#Add a color item to the dictionary by using the update() method:\n",
    "\n",
    "thisdict = {\n",
    "  \"brand\": \"Ford\",\n",
    "  \"model\": \"Mustang\",\n",
    "  \"year\": 1964\n",
    "}\n",
    "thisdict.update({\"color\": \"red\"})\n",
    "\n",
    "\n",
    "# pop() method removes the item with the specified\n",
    "\n",
    "thisdict = {\n",
    "  \"brand\": \"Ford\",\n",
    "  \"model\": \"Mustang\",\n",
    "  \"year\": 1964\n",
    "}\n",
    "thisdict.pop(\"model\")\n",
    "print(thisdict)\n",
    "#Print all key names in the dictionary, one by one:\n",
    "\n",
    "for x in thisdict:\n",
    "  print(x)\n",
    "\n",
    "#se the values() method to return values of a dictionary:\n",
    "\n",
    "for x in thisdict.values():\n",
    "  print(x)\n",
    "# use the keys() method to return the keys of a dictionary:\n",
    "\n",
    "for x in thisdict.keys():\n",
    "  print(x)\n",
    "#by using the items() method:\n",
    "\n",
    "for x, y in thisdict.items():\n",
    "  print(x, y)\n",
    "\n",
    "# copy of a dictionary with the copy() method:\n",
    "\n",
    "thisdict = {\n",
    "  \"brand\": \"Ford\",\n",
    "  \"model\": \"Mustang\",\n",
    "  \"year\": 1964\n",
    "}\n",
    "mydict = thisdict.copy()\n",
    "print(mydict)\n",
    "#\n",
    "\n",
    "myfamily = {\n",
    "  \"child1\" : {\n",
    "    \"name\" : \"Emil\",\n",
    "    \"year\" : 2004\n",
    "  },\n",
    "  \"child2\" : {\n",
    "    \"name\" : \"Tobias\",\n",
    "    \"year\" : 2007\n",
    "  },\n",
    "  \"child3\" : {\n",
    "    \"name\" : \"Linus\",\n",
    "    \"year\" : 2011\n",
    "  }\n",
    "}\n",
    "\n",
    "for x, obj in myfamily.items():\n",
    "    print(x)\n",
    "    \n",
    "    for y in obj:\n",
    "        print(y + ':', obj[y])\n",
    "\n",
    "#"
   ]
  },
  {
   "cell_type": "code",
   "execution_count": 56,
   "id": "f142d5c0",
   "metadata": {},
   "outputs": [
    {
     "name": "stdout",
     "output_type": "stream",
     "text": [
      "a and b are equal\n"
     ]
    }
   ],
   "source": [
    "#if else \n",
    "a = 33\n",
    "b = 33\n",
    "if b > a:\n",
    "  print(\"b is greater than a\")\n",
    "elif a == b:\n",
    "  print(\"a and b are equal\")\n",
    "\n",
    "#1\n",
    "if a > b: print(\"a is greater than b\")"
   ]
  },
  {
   "cell_type": "code",
   "execution_count": 57,
   "id": "8c21c319",
   "metadata": {},
   "outputs": [
    {
     "name": "stdout",
     "output_type": "stream",
     "text": [
      "1\n",
      "2\n",
      "3\n",
      "4\n",
      "5\n"
     ]
    }
   ],
   "source": [
    "#using while\n",
    "i = 1\n",
    "while i < 6:\n",
    "  print(i)\n",
    "  i += 1"
   ]
  },
  {
   "cell_type": "code",
   "execution_count": 58,
   "id": "65b255e5",
   "metadata": {},
   "outputs": [
    {
     "name": "stdout",
     "output_type": "stream",
     "text": [
      "apple\n",
      "banana\n",
      "cherry\n"
     ]
    }
   ],
   "source": [
    "#for\n",
    "fruits = [\"apple\", \"banana\", \"cherry\"]\n",
    "for x in fruits:\n",
    "  print(x)"
   ]
  },
  {
   "cell_type": "code",
   "execution_count": 59,
   "id": "db307c8b",
   "metadata": {},
   "outputs": [
    {
     "name": "stdout",
     "output_type": "stream",
     "text": [
      "apple\n",
      "banana\n"
     ]
    }
   ],
   "source": [
    "#using break\n",
    "\n",
    "fruits = [\"apple\", \"banana\", \"cherry\"]\n",
    "for x in fruits:\n",
    "  print(x)\n",
    "  if x == \"banana\":\n",
    "    break"
   ]
  },
  {
   "cell_type": "code",
   "execution_count": 60,
   "id": "9e4469e6",
   "metadata": {},
   "outputs": [
    {
     "name": "stdout",
     "output_type": "stream",
     "text": [
      "not print banana =\n",
      "apple\n",
      "cherry\n"
     ]
    }
   ],
   "source": [
    "\n",
    "print(\"not print banana =\")\n",
    "fruits = [\"apple\", \"banana\", \"cherry\"]\n",
    "for x in fruits:\n",
    "  if x == \"banana\":\n",
    "    continue\n",
    "  print(x)\n"
   ]
  },
  {
   "cell_type": "code",
   "execution_count": 61,
   "id": "7fc04566",
   "metadata": {},
   "outputs": [
    {
     "name": "stdout",
     "output_type": "stream",
     "text": [
      "0\n",
      "1\n",
      "2\n",
      "3\n",
      "4\n",
      "5\n"
     ]
    }
   ],
   "source": [
    "#range\n",
    "for x in range(6):\n",
    "  print(x)"
   ]
  },
  {
   "cell_type": "code",
   "execution_count": 62,
   "id": "4f0a621c",
   "metadata": {},
   "outputs": [
    {
     "name": "stdout",
     "output_type": "stream",
     "text": [
      "2\n",
      "3\n",
      "4\n",
      "5\n"
     ]
    }
   ],
   "source": [
    "for x in range(2, 6):\n",
    "  print(x)"
   ]
  },
  {
   "cell_type": "code",
   "execution_count": 67,
   "id": "b7ef810a",
   "metadata": {},
   "outputs": [
    {
     "name": "stdout",
     "output_type": "stream",
     "text": [
      "Hello\n",
      "swalih jalal\n",
      "jalal jalal\n",
      "jinn jalal\n"
     ]
    }
   ],
   "source": [
    "#functiondef my_function():\n",
    "print(\"Hello\")\n",
    "\n",
    "def my_function(fname):\n",
    "  print(fname + \" jalal\")\n",
    "\n",
    "my_function(\"swalih\")\n",
    "my_function(\"jalal\")\n",
    "my_function(\"jinn\")\n"
   ]
  },
  {
   "cell_type": "code",
   "execution_count": 71,
   "id": "0d79a34c",
   "metadata": {},
   "outputs": [
    {
     "name": "stdout",
     "output_type": "stream",
     "text": [
      "time now: 2024-07-23 10:56:48.719169\n",
      "2024\n",
      "Tuesday\n"
     ]
    }
   ],
   "source": [
    "#date\n",
    "\n",
    "import datetime\n",
    "\n",
    "x = datetime.datetime.now()\n",
    "print(\"time now:\",x)\n",
    "\n",
    "##\n",
    "import datetime\n",
    "\n",
    "x = datetime.datetime.now()\n",
    "\n",
    "print(x.year)\n",
    "print(x.import datetime\n",
    "\n",
    "x = datetime.datetime.now()\n",
    "\n",
    "print(x.year)\n",
    "print(x.strftime(\"%A\"))"
   ]
  },
  {
   "cell_type": "code",
   "execution_count": null,
   "id": "8da89531",
   "metadata": {},
   "outputs": [],
   "source": []
  }
 ],
 "metadata": {
  "kernelspec": {
   "display_name": "Python 3 (ipykernel)",
   "language": "python",
   "name": "python3"
  },
  "language_info": {
   "codemirror_mode": {
    "name": "ipython",
    "version": 3
   },
   "file_extension": ".py",
   "mimetype": "text/x-python",
   "name": "python",
   "nbconvert_exporter": "python",
   "pygments_lexer": "ipython3",
   "version": "3.11.5"
  }
 },
 "nbformat": 4,
 "nbformat_minor": 5
}
