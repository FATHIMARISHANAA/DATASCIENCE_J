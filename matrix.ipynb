{
 "cells": [
  {
   "cell_type": "code",
   "execution_count": null,
   "id": "99692e5c-dfb6-4f0a-8cde-34aa93891dff",
   "metadata": {},
   "outputs": [],
   "source": [
    "#matrix\n",
    "import numpy as np\n",
    "a=np.array([[1,2],[3,4]])\n",
    "b=np.array([[5,6],[7,8]])\n",
    "c=a+b\n",
    "d=a-b\n",
    "e=a*b\n",
    "f=np.dot(a,b)\n",
    "t=a.T\n",
    "print(\"Addition\")\n",
    "print(c)\n",
    "print(\"Substraction\")\n",
    "print(d)\n",
    "print(\"Elementary multiplication\")\n",
    "print(e)\n",
    "print(\"Matrix multiplication\")\n",
    "print(f)\n",
    "print(\"Transpose\")\n",
    "print(t)\n",
    "\n",
    "\n",
    "import numpy as np\n",
    "X=np.array([[1,2,3],[4,5,6],[7,8,9]])\n",
    "U,S,VT=np.linalg.svd(X)\n",
    "#choose no.of components\n",
    "n_components=2\n",
    "#reconstruct matrix\n",
    "X_reconstructed=np.dot(U[:,:n_components],np.dot(np.diag(S[:n_components]),VT[:n_components,:]))\n",
    "print(\"orginal matrix:\")\n",
    "print(X)\n",
    "print(\"\\n Reconstructed matrix(with reduced diamensions):\")\n",
    "print(X_reconstructed)"
   ]
  }
 ],
 "metadata": {
  "kernelspec": {
   "display_name": "Python 3 (ipykernel)",
   "language": "python",
   "name": "python3"
  },
  "language_info": {
   "codemirror_mode": {
    "name": "ipython",
    "version": 3
   },
   "file_extension": ".py",
   "mimetype": "text/x-python",
   "name": "python",
   "nbconvert_exporter": "python",
   "pygments_lexer": "ipython3",
   "version": "3.11.9"
  }
 },
 "nbformat": 4,
 "nbformat_minor": 5
}
